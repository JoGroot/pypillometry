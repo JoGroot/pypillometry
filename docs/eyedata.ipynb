{
 "cells": [
  {
   "cell_type": "markdown",
   "metadata": {},
   "source": [
    "# Importing Eye- and pupil data"
   ]
  },
  {
   "cell_type": "code",
   "execution_count": 1,
   "metadata": {},
   "outputs": [
    {
     "name": "stderr",
     "output_type": "stream",
     "text": [
      "/Users/mmi041/miniconda3/envs/pypil/lib/python3.11/site-packages/tqdm/auto.py:21: TqdmWarning: IProgress not found. Please update jupyter and ipywidgets. See https://ipywidgets.readthedocs.io/en/stable/user_install.html\n",
      "  from .autonotebook import tqdm as notebook_tqdm\n"
     ]
    },
    {
     "name": "stdout",
     "output_type": "stream",
     "text": [
      "/Users/mmi041/Dropbox/work/projects/pupil/pypillometry/pypillometry\n"
     ]
    }
   ],
   "source": [
    "import sys, os\n",
    "sys.path.insert(0,\"..\") # this is not needed if you have installed pypillometry\n",
    "import pypillometry as pp\n",
    "print(pp.__package_path__) # check that correct version is being used\n",
    "#import pandas as pd\n",
    "#import numpy as np\n",
    "#import pylab as plt"
   ]
  },
  {
   "cell_type": "code",
   "execution_count": 2,
   "metadata": {},
   "outputs": [
    {
     "data": {
      "text/plain": [
       "PupilData(55910_1_wu, 684.7KiB):\n",
       " n                 : 12501\n",
       " nmiss             : 2291\n",
       " perc_miss         : 18.326533877289815\n",
       " nevents           : 10\n",
       " nblinks           : 0\n",
       " ninterpolated     : 0\n",
       " blinks_per_min    : 0.0\n",
       " fs                : 500.0\n",
       " duration_minutes  : 0.4167\n",
       " start_min         : 2.0833333333333335\n",
       " end_min           : 2.5\n",
       " baseline_estimated: False\n",
       " response_estimated: False\n",
       " History:\n",
       " *"
      ]
     },
     "execution_count": 2,
     "metadata": {},
     "output_type": "execute_result"
    }
   ],
   "source": [
    "pp.PupilData.from_file(\"../data/example_shortblinks.pd\")"
   ]
  },
  {
   "cell_type": "code",
   "execution_count": 4,
   "metadata": {},
   "outputs": [
    {
     "ename": "AttributeError",
     "evalue": "'function' object has no attribute 'EyeData'",
     "output_type": "error",
     "traceback": [
      "\u001b[0;31m---------------------------------------------------------------------------\u001b[0m",
      "\u001b[0;31mAttributeError\u001b[0m                            Traceback (most recent call last)",
      "\u001b[1;32m/Users/mmi041/Dropbox/work/projects/pupil/pypillometry/docs/eyedata.ipynb Cell 4\u001b[0m line \u001b[0;36m1\n\u001b[0;32m----> <a href='vscode-notebook-cell:/Users/mmi041/Dropbox/work/projects/pupil/pypillometry/docs/eyedata.ipynb#W5sZmlsZQ%3D%3D?line=0'>1</a>\u001b[0m pp\u001b[39m.\u001b[39;49mEyeData(\u001b[39m1\u001b[39m)\n",
      "\u001b[0;31mAttributeError\u001b[0m: 'function' object has no attribute 'EyeData'"
     ]
    }
   ],
   "source": [
    "pp.EyeData(1)"
   ]
  },
  {
   "cell_type": "code",
   "execution_count": 5,
   "metadata": {},
   "outputs": [
    {
     "ename": "ImportError",
     "evalue": "module reload not in sys.modules",
     "output_type": "error",
     "traceback": [
      "\u001b[0;31m---------------------------------------------------------------------------\u001b[0m",
      "\u001b[0;31mImportError\u001b[0m                               Traceback (most recent call last)",
      "\u001b[1;32m/Users/mmi041/Dropbox/work/projects/pupil/pypillometry/docs/eyedata.ipynb Cell 5\u001b[0m line \u001b[0;36m2\n\u001b[1;32m      <a href='vscode-notebook-cell:/Users/mmi041/Dropbox/work/projects/pupil/pypillometry/docs/eyedata.ipynb#W6sZmlsZQ%3D%3D?line=0'>1</a>\u001b[0m \u001b[39mfrom\u001b[39;00m \u001b[39mimportlib\u001b[39;00m \u001b[39mimport\u001b[39;00m reload\n\u001b[0;32m----> <a href='vscode-notebook-cell:/Users/mmi041/Dropbox/work/projects/pupil/pypillometry/docs/eyedata.ipynb#W6sZmlsZQ%3D%3D?line=1'>2</a>\u001b[0m pp \u001b[39m=\u001b[39m reload(pp)\n",
      "File \u001b[0;32m~/miniconda3/envs/pypil/lib/python3.11/importlib/__init__.py:148\u001b[0m, in \u001b[0;36mreload\u001b[0;34m(module)\u001b[0m\n\u001b[1;32m    146\u001b[0m \u001b[39mif\u001b[39;00m sys\u001b[39m.\u001b[39mmodules\u001b[39m.\u001b[39mget(name) \u001b[39mis\u001b[39;00m \u001b[39mnot\u001b[39;00m module:\n\u001b[1;32m    147\u001b[0m     msg \u001b[39m=\u001b[39m \u001b[39m\"\u001b[39m\u001b[39mmodule \u001b[39m\u001b[39m{}\u001b[39;00m\u001b[39m not in sys.modules\u001b[39m\u001b[39m\"\u001b[39m\n\u001b[0;32m--> 148\u001b[0m     \u001b[39mraise\u001b[39;00m \u001b[39mImportError\u001b[39;00m(msg\u001b[39m.\u001b[39mformat(name), name\u001b[39m=\u001b[39mname)\n\u001b[1;32m    149\u001b[0m \u001b[39mif\u001b[39;00m name \u001b[39min\u001b[39;00m _RELOADING:\n\u001b[1;32m    150\u001b[0m     \u001b[39mreturn\u001b[39;00m _RELOADING[name]\n",
      "\u001b[0;31mImportError\u001b[0m: module reload not in sys.modules"
     ]
    }
   ],
   "source": [
    "from importlib import reload\n",
    "pp = reload(pp)"
   ]
  },
  {
   "cell_type": "code",
   "execution_count": null,
   "metadata": {},
   "outputs": [],
   "source": []
  }
 ],
 "metadata": {
  "kernelspec": {
   "display_name": "pypil",
   "language": "python",
   "name": "python3"
  },
  "language_info": {
   "codemirror_mode": {
    "name": "ipython",
    "version": 3
   },
   "file_extension": ".py",
   "mimetype": "text/x-python",
   "name": "python",
   "nbconvert_exporter": "python",
   "pygments_lexer": "ipython3",
   "version": "3.11.3"
  }
 },
 "nbformat": 4,
 "nbformat_minor": 2
}
