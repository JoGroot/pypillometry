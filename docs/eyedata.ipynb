{
 "cells": [
  {
   "cell_type": "markdown",
   "metadata": {},
   "source": [
    "# Importing Eye- and pupil data"
   ]
  },
  {
   "cell_type": "code",
   "execution_count": 1,
   "metadata": {},
   "outputs": [
    {
     "name": "stderr",
     "output_type": "stream",
     "text": [
      "/Users/mmi041/miniconda3/envs/pypil/lib/python3.11/site-packages/tqdm/auto.py:21: TqdmWarning: IProgress not found. Please update jupyter and ipywidgets. See https://ipywidgets.readthedocs.io/en/stable/user_install.html\n",
      "  from .autonotebook import tqdm as notebook_tqdm\n"
     ]
    },
    {
     "name": "stdout",
     "output_type": "stream",
     "text": [
      "/Users/mmi041/Dropbox/work/projects/pupil/pypillometry/pypillometry\n"
     ]
    }
   ],
   "source": [
    "import sys, os\n",
    "sys.path.insert(0,\"..\") # this is not needed if you have installed pypillometry\n",
    "import pypillometry as pp\n",
    "print(pp.__package_path__) # check that correct version is being used\n",
    "#import pandas as pd\n",
    "import numpy as np\n",
    "#import pylab as plt"
   ]
  },
  {
   "cell_type": "code",
   "execution_count": null,
   "metadata": {},
   "outputs": [],
   "source": [
    "pp.PupilData.from_file(\"../data/example_shortblinks.pd\")"
   ]
  },
  {
   "cell_type": "code",
   "execution_count": 2,
   "metadata": {},
   "outputs": [
    {
     "name": "stdout",
     "output_type": "stream",
     "text": [
      "> Filling in 1 gaps\n",
      "[0.004] seconds\n"
     ]
    },
    {
     "data": {
      "text/plain": [
       "EyeData(hodefafa, 1.1KiB):\n",
       " n               : 7\n",
       " sampling_rate   : 1000.0\n",
       " data            : ['left_x', 'left_y']\n",
       " nmiss           : 0\n",
       " perc_miss       : 0.0\n",
       " duration_minutes: 0.0001666666666666667\n",
       " start_min       : 1.6666666666666667e-05\n",
       " end_min         : 0.00016666666666666666\n",
       " glimpse         : EyeDataDict(vars=2,n=7): \n",
       "  left_x (float64): 1.0, 2.0, 3.0, 4.0, 5.0...\n",
       "  left_y (float64): 4.0, 5.0, 6.0, 7.0, 8.0...\n",
       "\n",
       " History:\n",
       " *\n",
       " └ fill_time_discontinuities()"
      ]
     },
     "execution_count": 2,
     "metadata": {},
     "output_type": "execute_result"
    }
   ],
   "source": [
    "d = pp.EyeData(time=[1,2,3,4,5,6,10], \n",
    "               left_x=[1,2,3,4,5,6,7], \n",
    "               left_y=[4,5,6,7,8,9,9], keep_orig=True)\n",
    "d"
   ]
  },
  {
   "cell_type": "code",
   "execution_count": null,
   "metadata": {},
   "outputs": [],
   "source": []
  }
 ],
 "metadata": {
  "kernelspec": {
   "display_name": "pypil",
   "language": "python",
   "name": "python3"
  },
  "language_info": {
   "codemirror_mode": {
    "name": "ipython",
    "version": 3
   },
   "file_extension": ".py",
   "mimetype": "text/x-python",
   "name": "python",
   "nbconvert_exporter": "python",
   "pygments_lexer": "ipython3",
   "version": "3.11.3"
  }
 },
 "nbformat": 4,
 "nbformat_minor": 2
}
