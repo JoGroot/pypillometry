{
 "cells": [
  {
   "cell_type": "markdown",
   "id": "e0c4f29b",
   "metadata": {},
   "source": [
    "# Example datasets included in `pypillometry`"
   ]
  },
  {
   "cell_type": "markdown",
   "id": "efdd19c5",
   "metadata": {},
   "source": []
  }
 ],
 "metadata": {
  "kernelspec": {
   "display_name": "pypil",
   "language": "python",
   "name": "python3"
  },
  "language_info": {
   "name": "python",
   "version": "3.12.5"
  }
 },
 "nbformat": 4,
 "nbformat_minor": 5
}
