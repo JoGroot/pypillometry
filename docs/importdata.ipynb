{
 "cells": [
  {
   "cell_type": "markdown",
   "metadata": {},
   "source": [
    "# Importing Data Example\n",
    "\n",
    "In order to import data into `pypillometry`, we have to load the data from the source using other packages and then wrap it into `PupilData` objects. \n",
    "\n",
    "Here, we will use `pandas.read_csv()`.\n",
    "\n",
    "First, we import the needed modules."
   ]
  },
  {
   "cell_type": "code",
   "execution_count": 1,
   "metadata": {},
   "outputs": [],
   "source": [
    "import sys\n",
    "sys.path.insert(0,\"..\") # this is not needed if you have installed pypillometry\n",
    "import pypillometry as pp\n",
    "import pandas as pd"
   ]
  },
  {
   "cell_type": "code",
   "execution_count": 3,
   "metadata": {},
   "outputs": [],
   "source": [
    "durl=\"https://github.com/ihrke/pypillometry/raw/master/data/example_shortblinks.pd\"\n",
    "d=pp.PupilData.from_file(durl)"
   ]
  },
  {
   "cell_type": "code",
   "execution_count": null,
   "metadata": {},
   "outputs": [],
   "source": []
  },
  {
   "cell_type": "code",
   "execution_count": 16,
   "metadata": {},
   "outputs": [],
   "source": [
    "\n",
    "import requests\n",
    "from io import BytesIO"
   ]
  },
  {
   "cell_type": "code",
   "execution_count": 19,
   "metadata": {},
   "outputs": [],
   "source": [
    "fstr=BytesIO(res.content)"
   ]
  },
  {
   "cell_type": "code",
   "execution_count": 20,
   "metadata": {},
   "outputs": [],
   "source": [
    "import pickle"
   ]
  },
  {
   "cell_type": "code",
   "execution_count": 22,
   "metadata": {},
   "outputs": [
    {
     "data": {
      "text/plain": [
       "PupilData(55910_1_wu):\n",
       " n                 : 12501\n",
       " nmiss             : 2291\n",
       " nevents           : 10\n",
       " nblinks           : 0\n",
       " ninterpolated     : 0\n",
       " blinks_per_min    : 0.0\n",
       " fs                : 500.0\n",
       " duration_minutes  : 0.4167\n",
       " start_min         : 2.0833333333333335\n",
       " end_min           : 2.5\n",
       " baseline_estimated: False\n",
       " response_estimated: False"
      ]
     },
     "execution_count": 22,
     "metadata": {},
     "output_type": "execute_result"
    }
   ],
   "source": [
    "pickle.loads(res.content)"
   ]
  },
  {
   "cell_type": "code",
   "execution_count": 21,
   "metadata": {},
   "outputs": [
    {
     "data": {
      "text/plain": [
       "PupilData(55910_1_wu):\n",
       " n                 : 12501\n",
       " nmiss             : 2291\n",
       " nevents           : 10\n",
       " nblinks           : 0\n",
       " ninterpolated     : 0\n",
       " blinks_per_min    : 0.0\n",
       " fs                : 500.0\n",
       " duration_minutes  : 0.4167\n",
       " start_min         : 2.0833333333333335\n",
       " end_min           : 2.5\n",
       " baseline_estimated: False\n",
       " response_estimated: False"
      ]
     },
     "execution_count": 21,
     "metadata": {},
     "output_type": "execute_result"
    }
   ],
   "source": [
    "pickle.load(fstr)"
   ]
  },
  {
   "cell_type": "code",
   "execution_count": 9,
   "metadata": {},
   "outputs": [],
   "source": [
    "\n",
    "\n"
   ]
  },
  {
   "cell_type": "code",
   "execution_count": 26,
   "metadata": {},
   "outputs": [],
   "source": [
    "durl=\"https://github.com/ihrke/pypillometry/raw/master/data/example_shortblinks.pd\"\n",
    "res=requests.get(durl)\n"
   ]
  },
  {
   "cell_type": "code",
   "execution_count": 27,
   "metadata": {
    "hideOutput": true
   },
   "outputs": [
    {
     "data": {
      "text/plain": [
       "200"
      ]
     },
     "execution_count": 27,
     "metadata": {},
     "output_type": "execute_result"
    }
   ],
   "source": [
    "res.status_code"
   ]
  },
  {
   "cell_type": "code",
   "execution_count": null,
   "metadata": {},
   "outputs": [],
   "source": []
  }
 ],
 "metadata": {
  "hide_input": false,
  "kernelspec": {
   "display_name": "Python 3",
   "language": "python",
   "name": "python3"
  },
  "language_info": {
   "codemirror_mode": {
    "name": "ipython",
    "version": 3
   },
   "file_extension": ".py",
   "mimetype": "text/x-python",
   "name": "python",
   "nbconvert_exporter": "python",
   "pygments_lexer": "ipython3",
   "version": "3.7.4"
  }
 },
 "nbformat": 4,
 "nbformat_minor": 2
}
