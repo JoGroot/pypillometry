{
 "cells": [
  {
   "cell_type": "markdown",
   "metadata": {},
   "source": [
    "# Importing Data Example\n",
    "\n",
    "In order to import data into `pypillometry`, we have to load the data from the source using other packages and then wrap it into `PupilData` objects. \n",
    "\n",
    "Here, we will use `pandas.read_csv()`.\n",
    "\n",
    "First, we import the needed modules."
   ]
  },
  {
   "cell_type": "code",
   "execution_count": 1,
   "metadata": {},
   "outputs": [],
   "source": [
    "import sys\n",
    "sys.path.insert(0,\"..\") # this is not needed if you have installed pypillometry\n",
    "import pypillometry as pp\n",
    "import pandas as pd"
   ]
  },
  {
   "cell_type": "markdown",
   "metadata": {},
   "source": [
    "In this example, we use data recorded with an Eyelink-eyetracker. These eyetrackers store the files in binary files with the extension `.edf`. Some information about this file-format is [here](http://download.sr-support.com/dispdoc/page25.html). We use a command-line utility released by Eyelink to convert this proprietory format into a more easily read `.asc` file that is a whitespace-separated plain-text format. The converter, `edf2asc` is a program that can be downloaded for different platforms from the [Eyelink support forum](https://www.sr-research.com/support/). There is a GUI-based program for windows and command-line programs for linux and mac. Binaries of the command-line tools for linux and mac are included in `pypillometry` under [this link]()."
   ]
  },
  {
   "cell_type": "code",
   "execution_count": 13,
   "metadata": {},
   "outputs": [
    {
     "name": "stdout",
     "output_type": "stream",
     "text": [
      "\n",
      "EDF2ASC: EyeLink EDF file -> ASCII (text) file translator\n",
      "EDF2ASC version 3.0 Linux Dec  1 2008 \n",
      "(c)1995-2007 by SR Research, last modified Dec  1 2008\n",
      "\n",
      "processing file ../data/test.edf \n",
      "=======================Preamble of file ../data/test.edf=======================\n",
      "| DATE: Fri Feb 14 08:48:33 2020                                              |\n",
      "| TYPE: EDF_FILE BINARY EVENT SAMPLE TAGGED                                   |\n",
      "| VERSION: EYELINK II 1                                                       |\n",
      "| SOURCE: EYELINK CL                                                          |\n",
      "| EYELINK II CL v6.12 Feb  1 2018 (EyeLink Portable Duo)                      |\n",
      "| CAMERA: EyeLink USBCAM Version 1.01                                         |\n",
      "| SERIAL NUMBER: CLU-DAC49                                                    |\n",
      "| CAMERA_CONFIG: DAC49200.SCD                                                 |\n",
      "| Psychopy GC demo                                                            |\n",
      "===============================================================================\n",
      "\n",
      "Converted successfully: 0 events, 1245363 samples, 6 blocks.\n",
      "\n",
      "EDF2ASC: EyeLink EDF file -> ASCII (text) file translator\n",
      "EDF2ASC version 3.0 Linux Dec  1 2008 \n",
      "(c)1995-2007 by SR Research, last modified Dec  1 2008\n",
      "\n",
      "processing file ../data/test.edf \n",
      "=======================Preamble of file ../data/test.edf=======================\n",
      "| DATE: Fri Feb 14 08:48:33 2020                                              |\n",
      "| TYPE: EDF_FILE BINARY EVENT SAMPLE TAGGED                                   |\n",
      "| VERSION: EYELINK II 1                                                       |\n",
      "| SOURCE: EYELINK CL                                                          |\n",
      "| EYELINK II CL v6.12 Feb  1 2018 (EyeLink Portable Duo)                      |\n",
      "| CAMERA: EyeLink USBCAM Version 1.01                                         |\n",
      "| SERIAL NUMBER: CLU-DAC49                                                    |\n",
      "| CAMERA_CONFIG: DAC49200.SCD                                                 |\n",
      "| Psychopy GC demo                                                            |\n",
      "===============================================================================\n",
      "\n",
      "Converted successfully: 37139 events, 0 samples, 6 blocks.\n"
     ]
    }
   ],
   "source": [
    "!../external/edf2asc-linux -y -s ../data/test.edf ../data/test_samples.asc\n",
    "!../external/edf2asc-linux -y -e ../data/test.edf ../data/test_events.asc"
   ]
  },
  {
   "cell_type": "code",
   "execution_count": 8,
   "metadata": {},
   "outputs": [
    {
     "ename": "OSError",
     "evalue": "the file is not EDF(+) or BDF(+) compliant (it contains format errors)",
     "output_type": "error",
     "traceback": [
      "\u001b[0;31m---------------------------------------------------------------------------\u001b[0m",
      "\u001b[0;31mOSError\u001b[0m                                   Traceback (most recent call last)",
      "\u001b[0;32m<ipython-input-8-ca87fc78bfb4>\u001b[0m in \u001b[0;36m<module>\u001b[0;34m\u001b[0m\n\u001b[0;32m----> 1\u001b[0;31m \u001b[0mpyedflib\u001b[0m\u001b[0;34m.\u001b[0m\u001b[0medfreader\u001b[0m\u001b[0;34m.\u001b[0m\u001b[0mEdfReader\u001b[0m\u001b[0;34m(\u001b[0m\u001b[0;34m\"../data/1_pav.EDF\"\u001b[0m\u001b[0;34m)\u001b[0m\u001b[0;34m\u001b[0m\u001b[0;34m\u001b[0m\u001b[0m\n\u001b[0m",
      "\u001b[0;32mpyedflib\\_extensions\\_pyedflib.pyx\u001b[0m in \u001b[0;36mpyedflib._extensions._pyedflib.CyEdfReader.__init__\u001b[0;34m()\u001b[0m\n",
      "\u001b[0;32mpyedflib\\_extensions\\_pyedflib.pyx\u001b[0m in \u001b[0;36mpyedflib._extensions._pyedflib.CyEdfReader.open\u001b[0;34m()\u001b[0m\n",
      "\u001b[0;32mpyedflib\\_extensions\\_pyedflib.pyx\u001b[0m in \u001b[0;36mpyedflib._extensions._pyedflib.CyEdfReader.check_open_ok\u001b[0;34m()\u001b[0m\n",
      "\u001b[0;31mOSError\u001b[0m: the file is not EDF(+) or BDF(+) compliant (it contains format errors)"
     ]
    }
   ],
   "source": [
    "pyedflib.edfreader.EdfReader(\"../data/1_pav.EDF\")"
   ]
  },
  {
   "cell_type": "code",
   "execution_count": 16,
   "metadata": {},
   "outputs": [],
   "source": [
    "\n",
    "import requests\n",
    "from io import BytesIO"
   ]
  },
  {
   "cell_type": "code",
   "execution_count": 19,
   "metadata": {},
   "outputs": [],
   "source": [
    "fstr=BytesIO(res.content)"
   ]
  },
  {
   "cell_type": "code",
   "execution_count": 20,
   "metadata": {},
   "outputs": [],
   "source": [
    "import pickle"
   ]
  },
  {
   "cell_type": "code",
   "execution_count": 22,
   "metadata": {},
   "outputs": [
    {
     "data": {
      "text/plain": [
       "PupilData(55910_1_wu):\n",
       " n                 : 12501\n",
       " nmiss             : 2291\n",
       " nevents           : 10\n",
       " nblinks           : 0\n",
       " ninterpolated     : 0\n",
       " blinks_per_min    : 0.0\n",
       " fs                : 500.0\n",
       " duration_minutes  : 0.4167\n",
       " start_min         : 2.0833333333333335\n",
       " end_min           : 2.5\n",
       " baseline_estimated: False\n",
       " response_estimated: False"
      ]
     },
     "execution_count": 22,
     "metadata": {},
     "output_type": "execute_result"
    }
   ],
   "source": [
    "pickle.loads(res.content)"
   ]
  },
  {
   "cell_type": "code",
   "execution_count": 21,
   "metadata": {},
   "outputs": [
    {
     "data": {
      "text/plain": [
       "PupilData(55910_1_wu):\n",
       " n                 : 12501\n",
       " nmiss             : 2291\n",
       " nevents           : 10\n",
       " nblinks           : 0\n",
       " ninterpolated     : 0\n",
       " blinks_per_min    : 0.0\n",
       " fs                : 500.0\n",
       " duration_minutes  : 0.4167\n",
       " start_min         : 2.0833333333333335\n",
       " end_min           : 2.5\n",
       " baseline_estimated: False\n",
       " response_estimated: False"
      ]
     },
     "execution_count": 21,
     "metadata": {},
     "output_type": "execute_result"
    }
   ],
   "source": [
    "pickle.load(fstr)"
   ]
  },
  {
   "cell_type": "code",
   "execution_count": 9,
   "metadata": {},
   "outputs": [],
   "source": [
    "\n",
    "\n"
   ]
  },
  {
   "cell_type": "code",
   "execution_count": 26,
   "metadata": {},
   "outputs": [],
   "source": [
    "durl=\"https://github.com/ihrke/pypillometry/raw/master/data/example_shortblinks.pd\"\n",
    "res=requests.get(durl)\n"
   ]
  },
  {
   "cell_type": "code",
   "execution_count": 27,
   "metadata": {
    "hideOutput": true
   },
   "outputs": [
    {
     "data": {
      "text/plain": [
       "200"
      ]
     },
     "execution_count": 27,
     "metadata": {},
     "output_type": "execute_result"
    }
   ],
   "source": [
    "res.status_code"
   ]
  },
  {
   "cell_type": "code",
   "execution_count": null,
   "metadata": {},
   "outputs": [],
   "source": []
  }
 ],
 "metadata": {
  "hide_input": false,
  "kernelspec": {
   "display_name": "Python 3",
   "language": "python",
   "name": "python3"
  },
  "language_info": {
   "codemirror_mode": {
    "name": "ipython",
    "version": 3
   },
   "file_extension": ".py",
   "mimetype": "text/x-python",
   "name": "python",
   "nbconvert_exporter": "python",
   "pygments_lexer": "ipython3",
   "version": "3.7.4"
  }
 },
 "nbformat": 4,
 "nbformat_minor": 2
}
